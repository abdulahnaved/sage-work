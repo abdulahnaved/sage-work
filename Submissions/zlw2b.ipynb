{
 "cells": [
  {
   "cell_type": "code",
   "execution_count": null,
   "id": "8bd9bd25-6eb6-4a43-aa84-35806d21da25",
   "metadata": {},
   "outputs": [],
   "source": [
    "STUDENT_ID = \"zlw2b\"   # ← replace with real Neptun"
   ]
  },
  {
   "cell_type": "code",
   "execution_count": null,
   "id": "a6284865",
   "metadata": {},
   "outputs": [],
   "source": [
    "from sage.all import *"
   ]
  },
  {
   "cell_type": "code",
   "execution_count": null,
   "id": "5a2bfc6f-2727-4c84-80f2-7f7ca7f58728",
   "metadata": {},
   "outputs": [],
   "source": [
    "def get_digits(number, base):\n",
    "    if number == 0:\n",
    "        return [0]\n",
    "    \n",
    "    digits = []\n",
    "    while number > 0:\n",
    "        number, digit = divmod(number, base)\n",
    "        digits.append(digit)\n",
    "\n",
    "    return True\n"
   ]
  },
  {
   "cell_type": "code",
   "execution_count": null,
   "id": "6be6dffe-8fd0-4fb8-8898-9de5ffa5fc9f",
   "metadata": {},
   "outputs": [],
   "source": [
    "# cell tagged: tests\n",
    "from unittest import TestCase, TestLoader, TextTestRunner\n",
    "\n",
    "class Test_get_digits(TestCase):\n",
    "    def test_zero(self):\n",
    "        self.assertEqual(get_digits(0, 10), [0])\n",
    "\n",
    "    def test_nonzero(self):\n",
    "        self.assertEqual(get_digits(123, 10), [3, 2, 1])\n",
    "\n",
    "    def test_binary(self):\n",
    "        self.assertEqual(get_digits(6, 2), [0, 1, 1])\n",
    "\n",
    "TextTestRunner(verbosity=2).run(TestLoader().loadTestsFromTestCase(Test_get_digits))"
   ]
  },
  {
   "cell_type": "code",
   "execution_count": null,
   "id": "44d062bb",
   "metadata": {},
   "outputs": [],
   "source": [
    "def perform_carry(digits, base):\n",
    "    idx = 0\n",
    "    while idx < len(digits):\n",
    "        if digits[idx] >= base:\n",
    "            carry = digits[idx] // base\n",
    "            digits[idx] %= base\n",
    "            if idx < len(digits)-1:\n",
    "                digits[idx + 1] += carry\n",
    "            else:\n",
    "                digits.append(carry)\n",
    "        idx += 1\n",
    "    \n",
    "    return digits\n",
    "\n",
    "def product_via_digits(lhs_digits, rhs_digits, base):\n",
    "    R = ZZ['t']\n",
    "\n",
    "    lhs_poly = R(lhs_digits)\n",
    "    rhs_poly = R(rhs_digits)\n",
    "   \n",
    "    sum_poly = lhs_poly * rhs_poly\n",
    "    sum_digits = list(sum_poly)\n",
    "\n",
    "    if sum_digits == []:\n",
    "        return [0]\n",
    "\n",
    "    return perform_carry(sum_digits, base)"
   ]
  },
  {
   "cell_type": "code",
   "execution_count": null,
   "id": "5e8872ac",
   "metadata": {},
   "outputs": [],
   "source": [
    "# cell tagged: tests\n",
    "from unittest import TestCase, TestLoader, TextTestRunner\n",
    "\n",
    "class Test_product_via_digits(TestCase):\n",
    "    def test_product_with_zero(self):\n",
    "        base = 10\n",
    "        lhs_digits = get_digits(123, base)\n",
    "        rhs_digits = get_digits(0, base)\n",
    "        self.assertEqual(product_via_digits(lhs_digits, rhs_digits, base), rhs_digits)\n",
    "\n",
    "    def test_product_with_one(self):\n",
    "        base = 10\n",
    "        lhs_digits = get_digits(123, base)\n",
    "        rhs_digits = get_digits(1, base)\n",
    "        self.assertEqual(product_via_digits(lhs_digits, rhs_digits, base), lhs_digits)\n",
    "\n",
    "    def test_product_without_carry(self):\n",
    "        base = 10\n",
    "        lhs_digits = get_digits(123, base)\n",
    "        rhs_digits = get_digits(10, base)\n",
    "        result = get_digits(1230, base)\n",
    "        self.assertEqual(product_via_digits(lhs_digits, rhs_digits, base), result)\n",
    "\n",
    "    def test_product_with_carry(self):\n",
    "        base = 10\n",
    "        lhs_digits = get_digits(999, base)\n",
    "        rhs_digits = get_digits(99, base)\n",
    "        result = get_digits(999*99, base)\n",
    "        self.assertEqual(product_via_digits(lhs_digits, rhs_digits, base), result)\n",
    "\n",
    "TextTestRunner(verbosity=2).run(TestLoader().loadTestsFromTestCase(Test_product_via_digits))\n"
   ]
  },
  {
   "cell_type": "code",
   "execution_count": null,
   "id": "e23a56ef",
   "metadata": {},
   "outputs": [],
   "source": [
    "def binary_poly_from_number(number):\n",
    "    F = GF(2)\n",
    "    R = F['s']\n",
    "    return R(get_digits(number, 2))\n",
    "\n",
    "def number_from_binary_poly(binary_poly):\n",
    "    power_of_two = 1\n",
    "    number = 0\n",
    "\n",
    "    for digit in [int(digit) for digit in list(binary_poly)]:\n",
    "        number += digit * power_of_two\n",
    "        power_of_two *= 2\n",
    "\n",
    "    return number"
   ]
  },
  {
   "cell_type": "code",
   "execution_count": null,
   "id": "43c328e9",
   "metadata": {},
   "outputs": [],
   "source": [
    "# cell tagged: tests\n",
    "from unittest import TestCase, TestLoader, TextTestRunner\n",
    "\n",
    "class Test_binary_poly(TestCase):\n",
    "    def test_zero(self):\n",
    "        self.assertEqual(binary_poly_from_number(0), 0)\n",
    "\n",
    "    def test_binary_poly_from_number(self):\n",
    "        number = 255\n",
    "        F = GF(2)\n",
    "        self.assertEqual(list(binary_poly_from_number(number)), [1 for _ in range(8)])\n",
    "\n",
    "    def test_number_from_binary_poly(self):\n",
    "        F = GF(2)\n",
    "        R = F['v']\n",
    "        binary_poly = R([1 for _ in range(8)])\n",
    "        self.assertEqual(number_from_binary_poly(binary_poly), 255)\n",
    "\n",
    "TextTestRunner(verbosity=2).run(TestLoader().loadTestsFromTestCase(Test_binary_poly))"
   ]
  }
 ],
 "metadata": {
  "kernelspec": {
   "display_name": "SageMath 10.7",
   "language": "sage",
   "name": "sagemath"
  },
  "language_info": {
   "codemirror_mode": {
    "name": "ipython",
    "version": 3
   },
   "file_extension": ".py",
   "mimetype": "text/x-python",
   "name": "python",
   "nbconvert_exporter": "python",
   "pygments_lexer": "ipython3",
   "version": "3.12.5"
  }
 },
 "nbformat": 4,
 "nbformat_minor": 5
}
