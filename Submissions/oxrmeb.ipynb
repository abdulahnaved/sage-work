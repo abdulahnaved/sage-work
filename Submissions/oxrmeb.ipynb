{
 "cells": [
  {
   "cell_type": "code",
   "execution_count": 2,
   "id": "8bd9bd25-6eb6-4a43-aa84-35806d21da25",
   "metadata": {},
   "outputs": [],
   "source": [
    "STUDENT_ID = \"OXRMEB\"   # ← replace with real Neptun"
   ]
  },
  {
   "cell_type": "code",
   "execution_count": null,
   "id": "5a2bfc6f-2727-4c84-80f2-7f7ca7f58728",
   "metadata": {},
   "outputs": [],
   "source": [
    "def fib(n: int) -> int:\n",
    "    \"\"\"\n",
    "    Return the nth Fibonacci number.\n",
    "    \"\"\"\n",
    "    if n < 0:\n",
    "        raise ValueError(\"n must be non-negative\")\n",
    "    a, b = 0, 1\n",
    "    for _ in range(n):\n",
    "        a, b = b, a + b\n",
    "    return a\n"
   ]
  },
  {
   "cell_type": "code",
   "execution_count": null,
   "id": "6be6dffe-8fd0-4fb8-8898-9de5ffa5fc9f",
   "metadata": {},
   "outputs": [],
   "source": [
    "# Cell tagged: tests\n",
    "import unittest\n",
    "\n",
    "class TestFib(unittest.TestCase):\n",
    "    def test_small(self):\n",
    "        self.assertEqual(fib(0), 0)\n",
    "        self.assertEqual(fib(1), 1)\n",
    "        self.assertEqual(fib(5), 5)\n",
    "\n",
    "    def test_bigger(self):\n",
    "        self.assertEqual(fib(10), 55)\n",
    "\n",
    "    def test_negative(self):\n",
    "        with self.assertRaises(ValueError):\n",
    "            fib(-1)\n"
   ]
  }
 ],
 "metadata": {
  "kernelspec": {
   "display_name": "SageMath 10.7",
   "language": "sage",
   "name": "sagemath"
  },
  "language_info": {
   "codemirror_mode": {
    "name": "ipython",
    "version": 3
   },
   "file_extension": ".py",
   "mimetype": "text/x-python",
   "name": "python",
   "nbconvert_exporter": "python",
   "pygments_lexer": "ipython3",
   "version": "3.12.5"
  }
 },
 "nbformat": 4,
 "nbformat_minor": 5
}
